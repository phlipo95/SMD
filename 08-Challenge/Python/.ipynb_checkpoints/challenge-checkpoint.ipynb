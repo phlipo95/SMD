{
 "cells": [
  {
   "cell_type": "code",
   "execution_count": 19,
   "metadata": {
    "collapsed": false,
    "nbpresent": {
     "id": "cfa7d04a-790b-46a7-ab17-00128a25f34e"
    }
   },
   "outputs": [],
   "source": [
    "import pandas as pd\n",
    "import numpy as np\n",
    "import matplotlib\n",
    "import matplotlib.pyplot as plt"
   ]
  },
  {
   "cell_type": "code",
   "execution_count": 20,
   "metadata": {
    "collapsed": false,
    "nbpresent": {
     "id": "ec4d5069-0fac-4053-9616-37aa31cef192"
    }
   },
   "outputs": [],
   "source": [
    "#liest die Datensätze ein\n",
    "train = pd.read_csv(\"train.csv\")\n",
    "test = pd.read_csv(\"test.csv\")\n",
    "y_train = train.SalePrice\n",
    "all_data = pd.concat([train, test])\n",
    "all_data.drop('Id', inplace=True, axis=1)\n",
    "all_data.drop('SalePrice', inplace=True, axis=1)"
   ]
  },
  {
   "cell_type": "code",
   "execution_count": 21,
   "metadata": {
    "collapsed": false
   },
   "outputs": [],
   "source": [
    "col = all_data.dtypes[all_data.dtypes == \"object\"].index\n",
    "nol = all_data.dtypes[all_data.dtypes != \"object\"].index\n",
    "all_data[col] = all_data[col].fillna(\"FillNaN\")\n",
    "all_data = pd.get_dummies(all_data, columns=col)\n",
    "all_data[nol] = all_data[nol].fillna(all_data[nol].mean())"
   ]
  },
  {
   "cell_type": "code",
   "execution_count": 22,
   "metadata": {
    "collapsed": false
   },
   "outputs": [],
   "source": [
    "X_train = all_data[:train.shape[0]]\n",
    "X_test = all_data[train.shape[0]:]"
   ]
  },
  {
   "cell_type": "code",
   "execution_count": 23,
   "metadata": {
    "collapsed": true
   },
   "outputs": [],
   "source": [
    "from sklearn.model_selection import cross_val_score\n",
    "\n",
    "def rmse_cv(model):\n",
    "    rmse= np.sqrt(-cross_val_score(model,np.log1p(X_train) , np.log1p(y_train), scoring=\"neg_mean_squared_error\", cv = 5))\n",
    "    return(rmse)"
   ]
  },
  {
   "cell_type": "code",
   "execution_count": 24,
   "metadata": {
    "collapsed": false
   },
   "outputs": [
    {
     "name": "stdout",
     "output_type": "stream",
     "text": [
      "0.0002\n",
      "0.00019\n",
      "0.00018\n",
      "0.00017\n",
      "0.00016\n",
      "0.00015\n",
      "0.00014\n",
      "0.00013\n",
      "0.00012\n",
      "0.00011\n",
      "0.0001\n",
      "9e-05\n",
      "8e-05\n",
      "7e-05\n",
      "6e-05\n",
      "5e-05\n",
      "4e-05\n",
      "3e-05\n",
      "2e-05\n",
      "1e-05\n"
     ]
    },
    {
     "data": {
      "image/png": "[encoded data removed]",
      "text/plain": [
       "<matplotlib.figure.Figure at 0x7f4bf08cc5c0>"
      ]
     },
     "metadata": {},
     "output_type": "display_data"
    },
    {
     "name": "stdout",
     "output_type": "stream",
     "text": [
      "Anzahl der Coef:  64\n",
      "Plot zeigen ? (y/n)\n"
     ]
    }
   ],
   "source": [
    "from sklearn.linear_model import LassoCV \n",
    "#To try out to find the best alpha \n",
    "for x in (np.linspace(2e-4,1e-5,20)):\n",
    "    print(x)\n",
    "    model_lasso = LassoCV(n_jobs=-1, positive=True, alphas=[x],normalize=True)\n",
    "    plt.scatter(x,rmse_cv(model_lasso).mean())\n",
    "plt.xlim(2e-4,1e-5)\n",
    "plt.tight_layout()\n",
    "plt.show()\n",
    "\n",
    "model_lasso = LassoCV(n_jobs=-1, positive=True, alphas=[0.00012],normalize=True)\n",
    "model_lasso.fit(np.log1p(X_train),np.log1p(y_train))\n",
    "indices = np.argsort(model_lasso.coef_)\n",
    "mask = model_lasso.coef_ != 0\n",
    "coef = pd.Series(model_lasso.coef_[mask], index=X_train.columns[mask])\n",
    "print('Anzahl der Coef: ',len(coef))\n",
    "X_new = X_train[coef.index]\n",
    "x=input(\"Plot zeigen ? (y/n)\")\n",
    "if x == 'y':\n",
    "    matplotlib.rcParams['figure.figsize'] = (8.0, 15.0)\n",
    "    coef.sort_values().plot(kind = \"barh\")\n",
    "    plt.title(\"Coefficients in the Lasso Model\")\n",
    "    plt.grid()\n",
    "    plt.show()"
   ]
  },
  {
   "cell_type": "code",
   "execution_count": 25,
   "metadata": {
    "collapsed": false
   },
   "outputs": [
    {
     "data": {
      "text/plain": [
       "'\\nfrom sklearn.model_selection import train_test_split\\n\\nX_train, X_test2, y_train2, y_test = train_test_split(X_new, y_train, test_size=0.4, random_state=0)\\n\\nclf = LassoCV(n_jobs=-1, positive=True, alphas=[0.00012],normalize=True)\\nclf.fit(np.log1p(X_train),np.log1p(y_train2))\\nX = X_test2[coef.index]\\npredicted1 = np.expm1(clf.predict(np.log1p(X)))\\nplt.figure(figsize=(8,8))\\n#plt.scatter(predicted, y_test)\\n#plt.xlim(0,8e5)\\n#plt.ylim(0,8e5)\\nprint(np.std(predicted-y_test))\\nplt.grid()\\nplt.hist(np.abs(predicted-y_test), np.linspace(0,1.7e5,20))\\nplt.show()\\n'"
      ]
     },
     "execution_count": 25,
     "metadata": {},
     "output_type": "execute_result"
    }
   ],
   "source": [
    "\n",
    "\"\"\"\n",
    "from sklearn.model_selection import train_test_split\n",
    "\n",
    "X_train, X_test2, y_train2, y_test = train_test_split(X_new, y_train, test_size=0.4, random_state=0)\n",
    "\n",
    "clf = LassoCV(n_jobs=-1, positive=True, alphas=[0.00012],normalize=True)\n",
    "clf.fit(np.log1p(X_train),np.log1p(y_train2))\n",
    "X = X_test2[coef.index]\n",
    "predicted1 = np.expm1(clf.predict(np.log1p(X)))\n",
    "plt.figure(figsize=(8,8))\n",
    "#plt.scatter(predicted, y_test)\n",
    "#plt.xlim(0,8e5)\n",
    "#plt.ylim(0,8e5)\n",
    "print(np.std(predicted-y_test))\n",
    "plt.grid()\n",
    "plt.hist(np.abs(predicted-y_test), np.linspace(0,1.7e5,20))\n",
    "plt.show()\n",
    "\"\"\""
   ]
  },
  {
   "cell_type": "code",
   "execution_count": 26,
   "metadata": {
    "collapsed": false
   },
   "outputs": [
    {
     "data": {
      "image/png": "[encoded data removed]",
      "text/plain": [
       "<matplotlib.figure.Figure at 0x7f4bf090de10>"
      ]
     },
     "metadata": {},
     "output_type": "display_data"
    }
   ],
   "source": [
    "clf = LassoCV(n_jobs=-1, positive=True, alphas=[0.00012],normalize=True)\n",
    "clf.fit(np.log1p(X_new),np.log1p(y_train))\n",
    "X = X_test[coef.index]\n",
    "predicted1 = np.expm1(clf.predict(np.log1p(X)))\n",
    "plt.grid()\n",
    "plt.hist(predicted,20)\n",
    "plt.show()"
   ]
  },
  {
   "cell_type": "code",
   "execution_count": 27,
   "metadata": {
    "collapsed": false
   },
   "outputs": [
    {
     "name": "stdout",
     "output_type": "stream",
     "text": [
      "5.0\n",
      "7.03448275862\n",
      "9.06896551724\n",
      "11.1034482759\n",
      "13.1379310345\n",
      "15.1724137931\n",
      "17.2068965517\n",
      "19.2413793103\n",
      "21.275862069\n",
      "23.3103448276\n",
      "25.3448275862\n",
      "27.3793103448\n",
      "29.4137931034\n",
      "31.4482758621\n",
      "33.4827586207\n",
      "35.5172413793\n",
      "37.5517241379\n",
      "39.5862068966\n",
      "41.6206896552\n",
      "43.6551724138\n",
      "45.6896551724\n",
      "47.724137931\n",
      "49.7586206897\n",
      "51.7931034483\n",
      "53.8275862069\n",
      "55.8620689655\n",
      "57.8965517241\n",
      "59.9310344828\n",
      "61.9655172414\n",
      "64.0\n"
     ]
    },
    {
     "data": {
      "image/png": "[encoded data removed]",
      "text/plain": [
       "<matplotlib.figure.Figure at 0x7f4bf35b3f60>"
      ]
     },
     "metadata": {},
     "output_type": "display_data"
    }
   ],
   "source": [
    "from sklearn.ensemble import RandomForestRegressor\n",
    "\n",
    "#To try out to find the best alpha \n",
    "for x in (np.linspace(5,64,30)):\n",
    "    print(x)\n",
    "    clf = RandomForestRegressor(max_depth=x, n_jobs=-1)\n",
    "    plt.scatter(x,rmse_cv(clf).mean())\n",
    "#   plt.plot(x,rmse_cv(model_lasso).mean())\n",
    "plt.tight_layout()\n",
    "plt.show()"
   ]
  },
  {
   "cell_type": "code",
   "execution_count": 28,
   "metadata": {
    "collapsed": false
   },
   "outputs": [
    {
     "data": {
      "image/png": "[encoded data removed]",
      "text/plain": [
       "<matplotlib.figure.Figure at 0x7f4bf0bef518>"
      ]
     },
     "metadata": {},
     "output_type": "display_data"
    }
   ],
   "source": [
    "clf = RandomForestRegressor(max_depth=17, n_jobs=-1)\n",
    "rmse_cv(clf).mean()\n",
    "clf.fit(np.log1p(X_new),np.log1p(y_train))\n",
    "X = X_test[coef.index]\n",
    "predicted2 = np.expm1(clf.predict(np.log1p(X)))\n",
    "plt.grid()\n",
    "plt.hist((predicted2)/2,20)\n",
    "plt.show()\n",
    "\n",
    "import csv\n",
    "with open('sample_submission.csv', 'w') as csvfile:\n",
    "    fieldnames = ['Id', 'SalePrice']\n",
    "    writer = csv.DictWriter(csvfile, fieldnames=fieldnames)\n",
    "\n",
    "    writer.writeheader()\n",
    "    for x in range(len(predicted)):\n",
    "        writer.writerow({'Id': 1461+x, 'SalePrice': np.abs(predicted2[x])})"
   ]
  },
  {
   "cell_type": "code",
   "execution_count": null,
   "metadata": {
    "collapsed": true
   },
   "outputs": [],
   "source": []
  },
  {
   "cell_type": "code",
   "execution_count": null,
   "metadata": {
    "collapsed": true
   },
   "outputs": [],
   "source": []
  },
  {
   "cell_type": "code",
   "execution_count": null,
   "metadata": {
    "collapsed": true
   },
   "outputs": [],
   "source": []
  }
 ],
 "metadata": {
  "anaconda-cloud": {},
  "kernelspec": {
   "display_name": "Python [default]",
   "language": "python",
   "name": "python3"
  },
  "language_info": {
   "codemirror_mode": {
    "name": "ipython",
    "version": 3
   },
   "file_extension": ".py",
   "mimetype": "text/x-python",
   "name": "python",
   "nbconvert_exporter": "python",
   "pygments_lexer": "ipython3",
   "version": "3.5.2"
  },
  "nbpresent": {
   "slides": {},
   "themes": {
    "default": "d6ed65de-93f8-4933-b20e-39b6aa6f178a",
    "theme": {}
   }
  }
 },
 "nbformat": 4,
 "nbformat_minor": 1
}
