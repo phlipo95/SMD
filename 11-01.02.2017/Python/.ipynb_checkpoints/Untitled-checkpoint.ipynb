{
 "cells": [
  {
   "cell_type": "code",
   "execution_count": 1,
   "metadata": {
    "collapsed": true
   },
   "outputs": [],
   "source": [
    "import numpy as np\n",
    "import matplotlib.pyplot as plt"
   ]
  },
  {
   "cell_type": "code",
   "execution_count": 2,
   "metadata": {
    "collapsed": false
   },
   "outputs": [],
   "source": [
    "class unfold:\n",
    "    def __init__(self, events, incorrAss = 0.0, deficit = 1):\n",
    "        \"\"\"\n",
    "        Prameters:\n",
    "        events: ndarray\n",
    "            messaered Events\n",
    "        incorrAss: float \n",
    "            incorrect Assigment \n",
    "        deficit: float\n",
    "            loss of results\n",
    "        Returns:\n",
    "        ansM = answer matrix\n",
    "        b = invert answer matrix\n",
    "        \"\"\"\n",
    "        self.events = events\n",
    "        self.deficit = deficit\n",
    "        self.incorrAss = incorrAss\n",
    "        self.zw = np.ones(len(events))-incorrAss  \n",
    "        self.zw[1:-1] = self.zw[1:-1] -incorrAss\n",
    "        self.ansM = deficit*(np.diagflat(self.zw) + np.diagflat(np.array([incorrAss]*(len(events)-1)),-1) + np.diagflat(np.array([incorrAss]*(len(events)-1)),1))\n",
    "        self.B = np.matrix(np.linalg.inv(self.ansM))\n",
    "      \n",
    "    def calcKov(self):\n",
    "        self.Kov = self.B*np.diagflat(self.events)*np.transpose(self.B)\n",
    "        return self.Kov\n",
    "        \n",
    "    def trueEvents(self):\n",
    "        self.f = self.B*np.array(self.events).reshape(len(self.events),1)\n",
    "        return self.f"
   ]
  },
  {
   "cell_type": "markdown",
   "metadata": {
    "heading_collapsed": true
   },
   "source": [
    "# Aufgabe 2"
   ]
  },
  {
   "cell_type": "markdown",
   "metadata": {
    "hidden": true
   },
   "source": [
    "## d)"
   ]
  },
  {
   "cell_type": "code",
   "execution_count": 5,
   "metadata": {
    "collapsed": false,
    "hidden": true
   },
   "outputs": [
    {
     "name": "stdout",
     "output_type": "stream",
     "text": [
      "[[ 399.63378906  -81.07910156]\n",
      " [ -81.07910156  339.08691406]]\n",
      "f =  [[ 254.84375]\n",
      " [ 206.40625]]\n"
     ]
    }
   ],
   "source": [
    "a = unfold(np.array([200,169]), deficit=0.8, incorrAss=0.1)\n",
    "print(a.calcKov())\n",
    "print(\"f = \",a.trueEvents())"
   ]
  },
  {
   "cell_type": "markdown",
   "metadata": {
    "hidden": true
   },
   "source": [
    "## e)"
   ]
  },
  {
   "cell_type": "code",
   "execution_count": 6,
   "metadata": {
    "collapsed": false,
    "hidden": true
   },
   "outputs": [
    {
     "name": "stdout",
     "output_type": "stream",
     "text": [
      "[[ 3868.75   -3459.375 ]\n",
      " [-3459.375   3626.5625]]\n",
      "f =  [[ 327.5 ]\n",
      " [ 133.75]]\n"
     ]
    }
   ],
   "source": [
    "b = unfold(np.array([200,169]), deficit=0.8, incorrAss=0.4)\n",
    "print(b.calcKov())\n",
    "print(\"f = \",b.trueEvents())"
   ]
  },
  {
   "cell_type": "markdown",
   "metadata": {
    "collapsed": true
   },
   "source": [
    "# Aufgabe 3"
   ]
  },
  {
   "cell_type": "code",
   "execution_count": 19,
   "metadata": {
    "collapsed": false
   },
   "outputs": [
    {
     "name": "stdout",
     "output_type": "stream",
     "text": [
      "gemessenen Ereignisszahlen  wahre Verteilung\n",
      "260.16 193\n",
      "459.01 485\n",
      "650.2 664\n",
      "760.46 783\n",
      "799.4 804\n",
      "798.79 805\n",
      "775.09 779\n",
      "733.93 736\n",
      "682.62 684\n",
      "625.54 626\n",
      "566.46 566\n",
      "508.46 508\n",
      "452.92 452\n",
      "400.69 400\n",
      "352.38 351\n",
      "308.69 308\n",
      "269.15 268\n",
      "233.92 233\n",
      "202.46 202\n",
      "179.67 173\n"
     ]
    },
    {
     "data": {
      "image/png": "[encoded data removed]",
      "text/plain": [
       "<matplotlib.figure.Figure at 0x7f86bf3db5c0>"
      ]
     },
     "metadata": {},
     "output_type": "display_data"
    }
   ],
   "source": [
    "f = np.array([193,485,664,783,804,805,779,736,684,626,566,508,452,400,351,308,268,233,202,173])\n",
    "task3 = unfold(f, incorrAss=0.23)\n",
    "g = np.matmul(task3.ansM,f)\n",
    "D = np.diagflat(np.sort(g, axis=None)[::-1])\n",
    "print(\"gemessenen Ereignisszahlen\",\" wahre Verteilung\")\n",
    "for x in range(len(f)):\n",
    "    print(g[x] , f[x])\n",
    "g_mess = np.random.poisson(np.matmul(task3.ansM,f)) \n",
    "plt.bar(np.linspace(0,2,20), f, width=0.08, color =\"red\", alpha=0.3, label=\"wahre\")\n",
    "plt.bar(np.linspace(0,2,20), g_mess, width=0.08, alpha=0.3, label=\"gemessene\")\n",
    "plt.legend(loc=\"best\")\n",
    "plt.savefig('gemesseneVerteilung.pdf')\n",
    "plt.show()"
   ]
  },
  {
   "cell_type": "markdown",
   "metadata": {},
   "source": [
    "## c)"
   ]
  },
  {
   "cell_type": "code",
   "execution_count": 11,
   "metadata": {
    "collapsed": false
   },
   "outputs": [],
   "source": [
    "wert , vec = np.linalg.eig(task3.ansM)\n",
    "test = np.argsort(wert)[::-1]\n",
    "D = np.diagflat(wert[test])\n",
    "U = vec[test]"
   ]
  },
  {
   "cell_type": "markdown",
   "metadata": {},
   "source": [
    "## d)"
   ]
  },
  {
   "cell_type": "code",
   "execution_count": 26,
   "metadata": {
    "collapsed": false
   },
   "outputs": [
    {
     "name": "stdout",
     "output_type": "stream",
     "text": [
      "[193 485 664 783 804 805 779 736 684 626 566 508 452 400 351 308 268 233\n",
      " 202 173]\n",
      "b =  [  1.73647570e-04  -2.95599299e-04  -1.94977253e-04  -3.96434315e-05\n",
      "   1.99215538e-04   3.57025937e-04  -3.12099920e-04   6.75363310e-05\n",
      "   2.73288189e-04   6.17086163e-04   6.79634821e-04   4.33788731e-04\n",
      "  -2.83391968e-04   1.32875904e-03  -1.99904036e-03  -1.64549241e-02\n",
      "   6.17649108e-03  -1.89087130e-03  -4.04102293e-04   1.78865269e-03]\n"
     ]
    },
    {
     "data": {
      "image/png": "[encoded data removed]",
      "text/plain": [
       "<matplotlib.figure.Figure at 0x7f86bf5b9908>"
      ]
     },
     "metadata": {},
     "output_type": "display_data"
    }
   ],
   "source": [
    "b = np.matmul(np.linalg.inv(U),f)\n",
    "c = np.matmul(np.linalg.inv(U),g)\n",
    "print(f)\n",
    "kov = np.matmul(np.linalg.inv(U), np.matmul(np.diagflat(f),np.transpose(np.linalg.inv(U))))\n",
    "b_ = np.matmul(np.linalg.inv(D), np.matmul(np.linalg.inv(U), g_mess))\n",
    "print(\"b = \", b_/np.diag(kov))\n",
    "plt.bar(np.linspace(0,20,20),b/np.diag(kov))\n",
    "plt.grid()\n",
    "plt.ylim(-2,2)\n",
    "plt.savefig(\"bar.pdf\")\n",
    "plt.show()"
   ]
  },
  {
   "cell_type": "code",
   "execution_count": null,
   "metadata": {
    "collapsed": true
   },
   "outputs": [],
   "source": []
  }
 ],
 "metadata": {
  "anaconda-cloud": {},
  "kernelspec": {
   "display_name": "Python [default]",
   "language": "python",
   "name": "python3"
  },
  "language_info": {
   "codemirror_mode": {
    "name": "ipython",
    "version": 3
   },
   "file_extension": ".py",
   "mimetype": "text/x-python",
   "name": "python",
   "nbconvert_exporter": "python",
   "pygments_lexer": "ipython3",
   "version": "3.5.2"
  }
 },
 "nbformat": 4,
 "nbformat_minor": 1
}
