{
 "cells": [
  {
   "cell_type": "code",
   "execution_count": 1,
   "metadata": {
    "collapsed": true
   },
   "outputs": [],
   "source": [
    "import numpy as np\n",
    "import matplotlib.pyplot as plt"
   ]
  },
  {
   "cell_type": "code",
   "execution_count": 2,
   "metadata": {
    "collapsed": false
   },
   "outputs": [],
   "source": [
    "class unfold:\n",
    "    def __init__(self, events, incorrAss = 0.0, deficit = 1):\n",
    "        \"\"\"\n",
    "        Prameters:\n",
    "        events: ndarray\n",
    "            messaered Events\n",
    "        incorrAss: float \n",
    "            incorrect Assigment \n",
    "        deficit: float\n",
    "            loss of results\n",
    "        Returns:\n",
    "        ansM = answer matrix\n",
    "        b = invert answer matrix\n",
    "        \"\"\"\n",
    "        self.events = events\n",
    "        self.deficit = deficit\n",
    "        self.incorrAss = incorrAss\n",
    "        self.zw = np.ones(len(events))-incorrAss  \n",
    "        self.zw[1:-1] = self.zw[1:-1] -incorrAss\n",
    "        self.ansM = deficit*(np.diagflat(self.zw) + np.diagflat(np.array([incorrAss]*(len(events)-1)),-1) + np.diagflat(np.array([incorrAss]*(len(events)-1)),1))\n",
    "        self.B = np.matrix(np.linalg.inv(self.ansM))\n",
    "      \n",
    "    def calcKov(self):\n",
    "        self.Kov = self.B*np.diagflat(self.events)*np.transpose(self.B)\n",
    "        return self.Kov\n",
    "        \n",
    "    def trueEvents(self):\n",
    "        self.f = self.B*np.array(self.events).reshape(len(self.events),1)\n",
    "        return self.f"
   ]
  },
  {
   "cell_type": "markdown",
   "metadata": {},
   "source": [
    "# Aufgabe 2"
   ]
  },
  {
   "cell_type": "markdown",
   "metadata": {},
   "source": [
    "## d)"
   ]
  },
  {
   "cell_type": "code",
   "execution_count": 3,
   "metadata": {
    "collapsed": false
   },
   "outputs": [
    {
     "name": "stdout",
     "output_type": "stream",
     "text": [
      "[[ 399.63378906  -81.07910156]\n",
      " [ -81.07910156  339.08691406]]\n",
      "f =  [[ 254.84375]\n",
      " [ 206.40625]]\n"
     ]
    }
   ],
   "source": [
    "a = unfold(np.array([200,169]), deficit=0.8, incorrAss=0.1)\n",
    "print(a.calcKov())\n",
    "print(\"f = \",a.trueEvents())"
   ]
  },
  {
   "cell_type": "markdown",
   "metadata": {},
   "source": [
    "## e)"
   ]
  },
  {
   "cell_type": "code",
   "execution_count": 4,
   "metadata": {
    "collapsed": false
   },
   "outputs": [
    {
     "name": "stdout",
     "output_type": "stream",
     "text": [
      "[[ 3868.75   -3459.375 ]\n",
      " [-3459.375   3626.5625]]\n",
      "f =  [[ 327.5 ]\n",
      " [ 133.75]]\n"
     ]
    }
   ],
   "source": [
    "b = unfold(np.array([200,169]), deficit=0.8, incorrAss=0.4)\n",
    "print(b.calcKov())\n",
    "print(\"f = \",b.trueEvents())"
   ]
  },
  {
   "cell_type": "markdown",
   "metadata": {
    "collapsed": true
   },
   "source": [
    "# Aufgabe 3"
   ]
  },
  {
   "cell_type": "code",
   "execution_count": 5,
   "metadata": {
    "collapsed": false
   },
   "outputs": [
    {
     "name": "stdout",
     "output_type": "stream",
     "text": [
      "gemessenen Ereignisszahlen  wahre Verteilung\n",
      "290 193\n",
      "470 485\n",
      "644 664\n",
      "784 783\n",
      "823 804\n",
      "807 805\n",
      "788 779\n",
      "734 736\n",
      "689 684\n",
      "623 626\n",
      "579 566\n",
      "533 508\n",
      "458 452\n",
      "391 400\n",
      "337 351\n",
      "295 308\n",
      "281 268\n",
      "228 233\n",
      "193 202\n",
      "181 173\n"
     ]
    },
    {
     "data": {
      "image/png": "[encoded data removed]",
      "text/plain": [
       "<matplotlib.figure.Figure at 0x7f9e3e28ae48>"
      ]
     },
     "metadata": {},
     "output_type": "display_data"
    }
   ],
   "source": [
    "f = np.array([193,485,664,783,804,805,779,736,684,626,566,508,452,400,351,308,268,233,202,173])\n",
    "task3 = unfold(f, incorrAss=0.23)\n",
    "events = np.random.poisson(np.matmul(task3.ansM,f))\n",
    "D = np.diagflat(np.sort(events,axis=None)[::-1])\n",
    "print(\"gemessenen Ereignisszahlen\",\" wahre Verteilung\")\n",
    "for x in range(len(f)):\n",
    "    print(events[x] , f[x])\n",
    "g_mess = np.random.poisson(np.matmul(task3.ansM,f)) \n",
    "g = np.matmul(task3.ansM,f)\n",
    "plt.bar(np.linspace(0,2,20), f, width=0.08, color =\"red\", alpha=0.3, label=\"wahre\")\n",
    "plt.bar(np.linspace(0,2,20), g, width=0.08, alpha=0.3, label=\"gemessene\")\n",
    "plt.legend(loc=\"best\")\n",
    "plt.show()"
   ]
  },
  {
   "cell_type": "markdown",
   "metadata": {},
   "source": [
    "## c)"
   ]
  },
  {
   "cell_type": "code",
   "execution_count": 6,
   "metadata": {
    "collapsed": false
   },
   "outputs": [
    {
     "name": "stdout",
     "output_type": "stream",
     "text": [
      "[[  5.82490144e-01  -2.24791011e-01  -3.01507323e-03   1.96880394e-02\n",
      "    2.32500671e-02  -2.32643224e-01  -1.69342032e-02   4.76657898e-03\n",
      "    9.46095345e-03   1.73632358e-02   1.71273253e-02   1.44125198e-02\n",
      "    6.87676996e-03  -2.44605772e-04  -6.10660750e-03  -7.49826173e-03\n",
      "   -5.16414535e-03   2.66451391e-04   5.88417563e-03   9.54175228e-03]\n",
      " [ -2.24791011e-01   5.92420868e-01  -2.16779302e-01   1.35437326e-03\n",
      "    1.65705671e-02  -1.29457976e-02   3.82411683e-03   4.96149066e-03\n",
      "    1.14460790e-02   1.25784257e-02   1.29937893e-02   9.11561607e-03\n",
      "    4.48179550e-03  -9.75443320e-04  -4.23301140e-03  -5.16414535e-03\n",
      "   -2.99879894e-03   7.53011446e-04   4.81535101e-03   7.30290617e-03]\n",
      " [ -3.01507323e-03  -2.16779302e-01   5.96790315e-01  -2.19896774e-01\n",
      "   -5.32512674e-03   1.16763301e-02   8.94989629e-03   1.05036168e-02\n",
      "    8.07896293e-03   7.07663249e-03   4.56671645e-03   3.06306496e-03\n",
      "    1.26340279e-03   4.93389873e-04  -3.29811668e-05   2.66451391e-04\n",
      "    7.53011446e-04   1.55010068e-03   2.17174199e-03   2.57650490e-03]\n",
      " [  1.96880394e-02   1.35437326e-03  -2.19896774e-01   5.90110815e-01\n",
      "   -2.41792468e-01   1.88806206e-02   1.83558301e-02   1.20673686e-02\n",
      "    6.13417034e-03   6.72536645e-05  -2.85409184e-03  -3.28549683e-03\n",
      "   -9.25340671e-04   2.20586494e-03   4.99285266e-03   5.88417563e-03\n",
      "    4.81535101e-03   2.17174199e-03  -6.88745427e-04  -2.55465928e-03]\n",
      " [  2.32500671e-02   1.65705671e-02  -5.32512674e-03  -2.41792468e-01\n",
      "    3.53643473e-01   2.63675394e-02   2.19980929e-02   1.39863836e-02\n",
      "    4.05565929e-03  -3.79655399e-03  -7.78495962e-03  -6.84249747e-03\n",
      "   -2.34303468e-03   3.57412212e-03   8.12302174e-03   9.54175228e-03\n",
      "    7.30290617e-03   2.57650490e-03  -2.55465928e-03  -5.81990961e-03]\n",
      " [ -2.32643224e-01  -1.29457976e-02   1.16763301e-02   1.88806206e-02\n",
      "    2.63675394e-02   5.78501738e-01  -2.31700762e-01  -1.24347404e-02\n",
      "    1.06837358e-02   1.40098531e-02   1.87819663e-02   1.48884792e-02\n",
      "    9.68611856e-03   1.74560578e-03  -3.50985610e-03  -6.10660750e-03\n",
      "   -4.23301140e-03  -3.29811668e-05   4.99285266e-03   8.12302174e-03]\n",
      " [ -1.69342032e-02   3.82411683e-03   8.94989629e-03   1.83558301e-02\n",
      "    2.19980929e-02  -2.31700762e-01   5.83001201e-01  -2.25783605e-01\n",
      "   -7.88584078e-03   1.21024663e-02   1.17710070e-02   1.40555650e-02\n",
      "    9.75731504e-03   6.42086823e-03   1.74560578e-03  -2.44605772e-04\n",
      "   -9.75443320e-04   4.93389873e-04   2.20586494e-03   3.57412212e-03]\n",
      " [  4.76657898e-03   4.96149066e-03   1.05036168e-02   1.20673686e-02\n",
      "    1.39863836e-02  -1.24347404e-02  -2.25783605e-01   5.87550101e-01\n",
      "   -2.24364875e-01  -1.01246869e-02   7.37606505e-03   6.63984278e-03\n",
      "    1.07903147e-02   9.75731504e-03   9.68611856e-03   6.87676996e-03\n",
      "    4.48179550e-03   1.26340279e-03  -9.25340671e-04  -2.34303468e-03]\n",
      " [  9.46095345e-03   1.14460790e-02   8.07896293e-03   6.13417034e-03\n",
      "    4.05565929e-03   1.06837358e-02  -7.88584078e-03  -2.24364875e-01\n",
      "    5.85311255e-01  -2.29091276e-01  -1.52558511e-02   4.11081472e-03\n",
      "    6.63984278e-03   1.40555650e-02   1.48884792e-02   1.44125198e-02\n",
      "    9.11561607e-03   3.06306496e-03  -3.28549683e-03  -6.84249747e-03]\n",
      " [  1.73632358e-02   1.25784257e-02   7.07663249e-03   6.72536645e-05\n",
      "   -3.79655399e-03   1.40098531e-02   1.21024663e-02  -1.01246869e-02\n",
      "   -2.29091276e-01   5.80180090e-01  -2.32356527e-01  -1.52558511e-02\n",
      "    7.37606505e-03   1.17710070e-02   1.87819663e-02   1.71273253e-02\n",
      "    1.29937893e-02   4.56671645e-03  -2.85409184e-03  -7.78495962e-03]\n",
      " [  1.71273253e-02   1.29937893e-02   4.56671645e-03  -2.85409184e-03\n",
      "   -7.78495962e-03   1.87819663e-02   1.17710070e-02   7.37606505e-03\n",
      "   -1.52558511e-02  -2.32356527e-01   5.80180090e-01  -2.29091276e-01\n",
      "   -1.01246869e-02   1.21024663e-02   1.40098531e-02   1.73632358e-02\n",
      "    1.25784257e-02   7.07663249e-03   6.72536645e-05  -3.79655399e-03]\n",
      " [  1.44125198e-02   9.11561607e-03   3.06306496e-03  -3.28549683e-03\n",
      "   -6.84249747e-03   1.48884792e-02   1.40555650e-02   6.63984278e-03\n",
      "    4.11081472e-03  -1.52558511e-02  -2.29091276e-01   5.85311255e-01\n",
      "   -2.24364875e-01  -7.88584078e-03   1.06837358e-02   9.46095345e-03\n",
      "    1.14460790e-02   8.07896293e-03   6.13417034e-03   4.05565929e-03]\n",
      " [  6.87676996e-03   4.48179550e-03   1.26340279e-03  -9.25340671e-04\n",
      "   -2.34303468e-03   9.68611856e-03   9.75731504e-03   1.07903147e-02\n",
      "    6.63984278e-03   7.37606505e-03  -1.01246869e-02  -2.24364875e-01\n",
      "    5.87550101e-01  -2.25783605e-01  -1.24347404e-02   4.76657898e-03\n",
      "    4.96149066e-03   1.05036168e-02   1.20673686e-02   1.39863836e-02]\n",
      " [ -2.44605772e-04  -9.75443320e-04   4.93389873e-04   2.20586494e-03\n",
      "    3.57412212e-03   1.74560578e-03   6.42086823e-03   9.75731504e-03\n",
      "    1.40555650e-02   1.17710070e-02   1.21024663e-02  -7.88584078e-03\n",
      "   -2.25783605e-01   5.83001201e-01  -2.31700762e-01  -1.69342032e-02\n",
      "    3.82411683e-03   8.94989629e-03   1.83558301e-02   2.19980929e-02]\n",
      " [ -6.10660750e-03  -4.23301140e-03  -3.29811668e-05   4.99285266e-03\n",
      "    8.12302174e-03  -3.50985610e-03   1.74560578e-03   9.68611856e-03\n",
      "    1.48884792e-02   1.87819663e-02   1.40098531e-02   1.06837358e-02\n",
      "   -1.24347404e-02  -2.31700762e-01   5.78501738e-01  -2.32643224e-01\n",
      "   -1.29457976e-02   1.16763301e-02   1.88806206e-02   2.63675394e-02]\n",
      " [ -7.49826173e-03  -5.16414535e-03   2.66451391e-04   5.88417563e-03\n",
      "    9.54175228e-03  -6.10660750e-03  -2.44605772e-04   6.87676996e-03\n",
      "    1.44125198e-02   1.71273253e-02   1.73632358e-02   9.46095345e-03\n",
      "    4.76657898e-03  -1.69342032e-02  -2.32643224e-01   5.82490144e-01\n",
      "   -2.24791011e-01  -3.01507323e-03   1.96880394e-02   2.32500671e-02]\n",
      " [ -5.16414535e-03  -2.99879894e-03   7.53011446e-04   4.81535101e-03\n",
      "    7.30290617e-03  -4.23301140e-03  -9.75443320e-04   4.48179550e-03\n",
      "    9.11561607e-03   1.29937893e-02   1.25784257e-02   1.14460790e-02\n",
      "    4.96149066e-03   3.82411683e-03  -1.29457976e-02  -2.24791011e-01\n",
      "    5.92420868e-01  -2.16779302e-01   1.35437326e-03   1.65705671e-02]\n",
      " [  2.66451391e-04   7.53011446e-04   1.55010068e-03   2.17174199e-03\n",
      "    2.57650490e-03  -3.29811668e-05   4.93389873e-04   1.26340279e-03\n",
      "    3.06306496e-03   4.56671645e-03   7.07663249e-03   8.07896293e-03\n",
      "    1.05036168e-02   8.94989629e-03   1.16763301e-02  -3.01507323e-03\n",
      "   -2.16779302e-01   5.96790315e-01  -2.19896774e-01  -5.32512674e-03]\n",
      " [  5.88417563e-03   4.81535101e-03   2.17174199e-03  -6.88745427e-04\n",
      "   -2.55465928e-03   4.99285266e-03   2.20586494e-03  -9.25340671e-04\n",
      "   -3.28549683e-03  -2.85409184e-03   6.72536645e-05   6.13417034e-03\n",
      "    1.20673686e-02   1.83558301e-02   1.88806206e-02   1.96880394e-02\n",
      "    1.35437326e-03  -2.19896774e-01   5.90110815e-01  -2.41792468e-01]\n",
      " [  9.54175228e-03   7.30290617e-03   2.57650490e-03  -2.55465928e-03\n",
      "   -5.81990961e-03   8.12302174e-03   3.57412212e-03  -2.34303468e-03\n",
      "   -6.84249747e-03  -7.78495962e-03  -3.79655399e-03   4.05565929e-03\n",
      "    1.39863836e-02   2.19980929e-02   2.63675394e-02   2.32500671e-02\n",
      "    1.65705671e-02  -5.32512674e-03  -2.41792468e-01   3.53643473e-01]]\n"
     ]
    }
   ],
   "source": [
    "wert , vec = np.linalg.eig(task3.ansM)\n",
    "test = np.argsort(wert)[::-1]\n",
    "D = np.diagflat(wert[test])\n",
    "U = vec[test]\n",
    "print(np.matmul(U, np.matmul(D, np.linalg.inv(U))))"
   ]
  },
  {
   "cell_type": "markdown",
   "metadata": {},
   "source": [
    "## d)"
   ]
  },
  {
   "cell_type": "code",
   "execution_count": 13,
   "metadata": {
    "collapsed": false
   },
   "outputs": [
    {
     "name": "stdout",
     "output_type": "stream",
     "text": [
      "[[  8.14040741e+00   0.00000000e+00   0.00000000e+00   0.00000000e+00\n",
      "    0.00000000e+00   0.00000000e+00   0.00000000e+00   0.00000000e+00\n",
      "    0.00000000e+00   0.00000000e+00   0.00000000e+00   0.00000000e+00\n",
      "    0.00000000e+00   0.00000000e+00   0.00000000e+00   0.00000000e+00\n",
      "    0.00000000e+00   0.00000000e+00   0.00000000e+00   0.00000000e+00]\n",
      " [  0.00000000e+00   3.85037924e+01   0.00000000e+00   0.00000000e+00\n",
      "    0.00000000e+00   0.00000000e+00   0.00000000e+00   0.00000000e+00\n",
      "    0.00000000e+00   0.00000000e+00   0.00000000e+00   0.00000000e+00\n",
      "    0.00000000e+00   0.00000000e+00   0.00000000e+00   0.00000000e+00\n",
      "    0.00000000e+00   0.00000000e+00   0.00000000e+00   0.00000000e+00]\n",
      " [  0.00000000e+00   0.00000000e+00   5.66759451e+01   0.00000000e+00\n",
      "    0.00000000e+00   0.00000000e+00   0.00000000e+00   0.00000000e+00\n",
      "    0.00000000e+00   0.00000000e+00   0.00000000e+00   0.00000000e+00\n",
      "    0.00000000e+00   0.00000000e+00   0.00000000e+00   0.00000000e+00\n",
      "    0.00000000e+00   0.00000000e+00   0.00000000e+00   0.00000000e+00]\n",
      " [  0.00000000e+00   0.00000000e+00   0.00000000e+00   5.12480153e+01\n",
      "    0.00000000e+00   0.00000000e+00   0.00000000e+00   0.00000000e+00\n",
      "    0.00000000e+00   0.00000000e+00   0.00000000e+00   0.00000000e+00\n",
      "    0.00000000e+00   0.00000000e+00   0.00000000e+00   0.00000000e+00\n",
      "    0.00000000e+00   0.00000000e+00   0.00000000e+00   0.00000000e+00]\n",
      " [  0.00000000e+00   0.00000000e+00   0.00000000e+00   0.00000000e+00\n",
      "    1.17743074e+01   0.00000000e+00   0.00000000e+00   0.00000000e+00\n",
      "    0.00000000e+00   0.00000000e+00   0.00000000e+00   0.00000000e+00\n",
      "    0.00000000e+00   0.00000000e+00   0.00000000e+00   0.00000000e+00\n",
      "    0.00000000e+00   0.00000000e+00   0.00000000e+00   0.00000000e+00]\n",
      " [  0.00000000e+00   0.00000000e+00   0.00000000e+00   0.00000000e+00\n",
      "    0.00000000e+00   6.39083564e+01   0.00000000e+00   0.00000000e+00\n",
      "    0.00000000e+00   0.00000000e+00   0.00000000e+00   0.00000000e+00\n",
      "    0.00000000e+00   0.00000000e+00   0.00000000e+00   0.00000000e+00\n",
      "    0.00000000e+00   0.00000000e+00   0.00000000e+00   0.00000000e+00]\n",
      " [  0.00000000e+00   0.00000000e+00   0.00000000e+00   0.00000000e+00\n",
      "    0.00000000e+00   0.00000000e+00   4.50431224e+01   0.00000000e+00\n",
      "    0.00000000e+00   0.00000000e+00   0.00000000e+00   0.00000000e+00\n",
      "    0.00000000e+00   0.00000000e+00   0.00000000e+00   0.00000000e+00\n",
      "    0.00000000e+00   0.00000000e+00   0.00000000e+00   0.00000000e+00]\n",
      " [  0.00000000e+00   0.00000000e+00   0.00000000e+00   0.00000000e+00\n",
      "    0.00000000e+00   0.00000000e+00   0.00000000e+00   3.23479244e-30\n",
      "    0.00000000e+00   0.00000000e+00   0.00000000e+00   0.00000000e+00\n",
      "    0.00000000e+00   0.00000000e+00   0.00000000e+00   0.00000000e+00\n",
      "    0.00000000e+00   0.00000000e+00   0.00000000e+00   0.00000000e+00]\n",
      " [  0.00000000e+00   0.00000000e+00   0.00000000e+00   0.00000000e+00\n",
      "    0.00000000e+00   0.00000000e+00   0.00000000e+00   0.00000000e+00\n",
      "    1.86735249e+01   0.00000000e+00   0.00000000e+00   0.00000000e+00\n",
      "    0.00000000e+00   0.00000000e+00   0.00000000e+00   0.00000000e+00\n",
      "    0.00000000e+00   0.00000000e+00   0.00000000e+00   0.00000000e+00]\n",
      " [  0.00000000e+00   0.00000000e+00   0.00000000e+00   0.00000000e+00\n",
      "    0.00000000e+00   0.00000000e+00   0.00000000e+00   0.00000000e+00\n",
      "    0.00000000e+00   3.13000000e+01   0.00000000e+00   0.00000000e+00\n",
      "    0.00000000e+00   0.00000000e+00   0.00000000e+00   0.00000000e+00\n",
      "    0.00000000e+00   0.00000000e+00   0.00000000e+00   0.00000000e+00]\n",
      " [  0.00000000e+00   0.00000000e+00   0.00000000e+00   0.00000000e+00\n",
      "    0.00000000e+00   0.00000000e+00   0.00000000e+00   0.00000000e+00\n",
      "    0.00000000e+00   0.00000000e+00   2.38729046e+01   0.00000000e+00\n",
      "    0.00000000e+00   0.00000000e+00   0.00000000e+00   0.00000000e+00\n",
      "    0.00000000e+00   0.00000000e+00   0.00000000e+00   0.00000000e+00]\n",
      " [  0.00000000e+00   0.00000000e+00   0.00000000e+00   0.00000000e+00\n",
      "    0.00000000e+00   0.00000000e+00   0.00000000e+00   0.00000000e+00\n",
      "    0.00000000e+00   0.00000000e+00   0.00000000e+00   4.85096834e+00\n",
      "    0.00000000e+00   0.00000000e+00   0.00000000e+00   0.00000000e+00\n",
      "    0.00000000e+00   0.00000000e+00   0.00000000e+00   0.00000000e+00]\n",
      " [  0.00000000e+00   0.00000000e+00   0.00000000e+00   0.00000000e+00\n",
      "    0.00000000e+00   0.00000000e+00   0.00000000e+00   0.00000000e+00\n",
      "    0.00000000e+00   0.00000000e+00   0.00000000e+00   0.00000000e+00\n",
      "    6.61938675e+00   0.00000000e+00   0.00000000e+00   0.00000000e+00\n",
      "    0.00000000e+00   0.00000000e+00   0.00000000e+00   0.00000000e+00]\n",
      " [  0.00000000e+00   0.00000000e+00   0.00000000e+00   0.00000000e+00\n",
      "    0.00000000e+00   0.00000000e+00   0.00000000e+00   0.00000000e+00\n",
      "    0.00000000e+00   0.00000000e+00   0.00000000e+00   0.00000000e+00\n",
      "    0.00000000e+00   3.90211303e+01   0.00000000e+00   0.00000000e+00\n",
      "    0.00000000e+00   0.00000000e+00   0.00000000e+00   0.00000000e+00]\n",
      " [  0.00000000e+00   0.00000000e+00   0.00000000e+00   0.00000000e+00\n",
      "    0.00000000e+00   0.00000000e+00   0.00000000e+00   0.00000000e+00\n",
      "    0.00000000e+00   0.00000000e+00   0.00000000e+00   0.00000000e+00\n",
      "    0.00000000e+00   0.00000000e+00   5.14027599e+00   0.00000000e+00\n",
      "    0.00000000e+00   0.00000000e+00   0.00000000e+00   0.00000000e+00]\n",
      " [  0.00000000e+00   0.00000000e+00   0.00000000e+00   0.00000000e+00\n",
      "    0.00000000e+00   0.00000000e+00   0.00000000e+00   0.00000000e+00\n",
      "    0.00000000e+00   0.00000000e+00   0.00000000e+00   0.00000000e+00\n",
      "    0.00000000e+00   0.00000000e+00   0.00000000e+00   1.54000000e+01\n",
      "    0.00000000e+00   0.00000000e+00   0.00000000e+00   0.00000000e+00]\n",
      " [  0.00000000e+00   0.00000000e+00   0.00000000e+00   0.00000000e+00\n",
      "    0.00000000e+00   0.00000000e+00   0.00000000e+00   0.00000000e+00\n",
      "    0.00000000e+00   0.00000000e+00   0.00000000e+00   0.00000000e+00\n",
      "    0.00000000e+00   0.00000000e+00   0.00000000e+00   0.00000000e+00\n",
      "    1.94834727e+01   0.00000000e+00   0.00000000e+00   0.00000000e+00]\n",
      " [  0.00000000e+00   0.00000000e+00   0.00000000e+00   0.00000000e+00\n",
      "    0.00000000e+00   0.00000000e+00   0.00000000e+00   0.00000000e+00\n",
      "    0.00000000e+00   0.00000000e+00   0.00000000e+00   0.00000000e+00\n",
      "    0.00000000e+00   0.00000000e+00   0.00000000e+00   0.00000000e+00\n",
      "    0.00000000e+00   1.16500000e+01   0.00000000e+00   0.00000000e+00]\n",
      " [  0.00000000e+00   0.00000000e+00   0.00000000e+00   0.00000000e+00\n",
      "    0.00000000e+00   0.00000000e+00   0.00000000e+00   0.00000000e+00\n",
      "    0.00000000e+00   0.00000000e+00   0.00000000e+00   0.00000000e+00\n",
      "    0.00000000e+00   0.00000000e+00   0.00000000e+00   0.00000000e+00\n",
      "    0.00000000e+00   0.00000000e+00   1.16799881e+01   0.00000000e+00]\n",
      " [  0.00000000e+00   0.00000000e+00   0.00000000e+00   0.00000000e+00\n",
      "    0.00000000e+00   0.00000000e+00   0.00000000e+00   0.00000000e+00\n",
      "    0.00000000e+00   0.00000000e+00   0.00000000e+00   0.00000000e+00\n",
      "    0.00000000e+00   0.00000000e+00   0.00000000e+00   0.00000000e+00\n",
      "    0.00000000e+00   0.00000000e+00   0.00000000e+00   1.56479970e+01]]\n",
      "b =  [    32.79817281    -83.8666348    -131.70778982     13.8721311\n",
      "     42.82468525    144.62281228    -99.66362595    -20.11261501\n",
      "    179.7116177     306.20063606    294.98834693    111.59460063\n",
      "   -261.61152177    699.7081392   -1128.24555967 -10348.78797716\n",
      "   4273.75291809  -2256.76853421     27.26368146   2078.51718797]\n"
     ]
    },
    {
     "data": {
      "image/png": "[encoded data removed]",
      "text/plain": [
       "<matplotlib.figure.Figure at 0x7f9e3b0b1390>"
      ]
     },
     "metadata": {},
     "output_type": "display_data"
    }
   ],
   "source": [
    "b = np.matmul(np.linalg.inv(U),f)\n",
    "c = np.matmul(np.linalg.inv(U),g)\n",
    "kov = np.linalg.inv(U)*np.diagflat(f)*np.linalg.inv(U)\n",
    "print(kov)\n",
    "tee = np.matmul(np.linalg.inv(D), np.matmul(np.linalg.inv(U), g_mess))\n",
    "print(\"b = \", tee)\n",
    "plt.bar(np.linspace(0,20,20),b)\n",
    "plt.grid()\n",
    "plt.ylim(-2,2)\n",
    "#plt.yscale('log')\n",
    "plt.show()"
   ]
  },
  {
   "cell_type": "code",
   "execution_count": null,
   "metadata": {
    "collapsed": true
   },
   "outputs": [],
   "source": []
  }
 ],
 "metadata": {
  "anaconda-cloud": {},
  "kernelspec": {
   "display_name": "Python [default]",
   "language": "python",
   "name": "python3"
  },
  "language_info": {
   "codemirror_mode": {
    "name": "ipython",
    "version": 3
   },
   "file_extension": ".py",
   "mimetype": "text/x-python",
   "name": "python",
   "nbconvert_exporter": "python",
   "pygments_lexer": "ipython3",
   "version": "3.5.2"
  }
 },
 "nbformat": 4,
 "nbformat_minor": 1
}
