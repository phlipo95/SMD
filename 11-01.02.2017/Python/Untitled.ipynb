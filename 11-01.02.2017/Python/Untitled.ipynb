{
 "cells": [
  {
   "cell_type": "code",
   "execution_count": 1,
   "metadata": {
    "collapsed": true
   },
   "outputs": [],
   "source": [
    "import numpy as np"
   ]
  },
  {
   "cell_type": "code",
   "execution_count": 2,
   "metadata": {
    "collapsed": false
   },
   "outputs": [],
   "source": [
    "class unfold:\n",
    "    def __init__(self, events, incorrAss = 0.0, deficit = 1):\n",
    "        \"\"\"\n",
    "        Prameters:\n",
    "        events: ndarray\n",
    "            messaered Events\n",
    "        incorrAss: float \n",
    "            incorrect Assigment \n",
    "        deficit: float\n",
    "            loss of results\n",
    "        Returns:\n",
    "        ansM = answer matrix\n",
    "        b = invert answer matrix\n",
    "        \"\"\"\n",
    "        self.events = events\n",
    "        self.deficit = deficit\n",
    "        self.incorrAss = incorrAss\n",
    "        self.zw = np.ones(len(events))-incorrAss  \n",
    "        self.zw[1:-1] = self.zw[1:-1] -incorrAss\n",
    "        self.ansM = deficit*(np.diagflat(self.zw) + np.diagflat(np.array([incorrAss]*(len(events)-1)),-1) + np.diagflat(np.array([incorrAss]*(len(events)-1)),1))\n",
    "        self.B = np.matrix(np.linalg.inv(self.ansM))\n",
    "      \n",
    "    def calcKov(self):\n",
    "        self.Kov = self.B*np.diagflat(self.events)*np.transpose(self.B)\n",
    "        return self.Kov\n",
    "        \n",
    "    def trueEvents(self):\n",
    "        self.f = self.B*np.array(self.events).reshape(len(self.events),1)\n",
    "        return self.f"
   ]
  },
  {
   "cell_type": "code",
   "execution_count": 3,
   "metadata": {
    "collapsed": false
   },
   "outputs": [
    {
     "name": "stdout",
     "output_type": "stream",
     "text": [
      "[[ 399.63378906  -81.07910156]\n",
      " [ -81.07910156  339.08691406]]\n",
      "f =  [[ 254.84375]\n",
      " [ 206.40625]]\n"
     ]
    }
   ],
   "source": [
    "a = unfold(np.array([200,169]), deficit=0.8, incorrAss=0.1)\n",
    "print(a.calcKov())\n",
    "print(\"f = \",a.trueEvents())"
   ]
  },
  {
   "cell_type": "code",
   "execution_count": 11,
   "metadata": {
    "collapsed": false
   },
   "outputs": [
    {
     "name": "stdout",
     "output_type": "stream",
     "text": [
      "[[ 584.89583333 -256.25      ]\n",
      " [-256.25        504.16666667]]\n",
      "f =  [[ 262.91666667]\n",
      " [ 198.33333333]]\n"
     ]
    }
   ],
   "source": [
    "b = unfold(np.array([200,169]), deficit=0.8, incorrAss=0.2)\n",
    "print(b.calcKov())\n",
    "print(\"f = \",b.trueEvents())"
   ]
  },
  {
   "cell_type": "code",
   "execution_count": null,
   "metadata": {
    "collapsed": true
   },
   "outputs": [],
   "source": []
  }
 ],
 "metadata": {
  "anaconda-cloud": {},
  "kernelspec": {
   "display_name": "Python [default]",
   "language": "python",
   "name": "python3"
  },
  "language_info": {
   "codemirror_mode": {
    "name": "ipython",
    "version": 3
   },
   "file_extension": ".py",
   "mimetype": "text/x-python",
   "name": "python",
   "nbconvert_exporter": "python",
   "pygments_lexer": "ipython3",
   "version": "3.5.2"
  }
 },
 "nbformat": 4,
 "nbformat_minor": 1
}
