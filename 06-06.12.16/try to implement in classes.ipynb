{
 "cells": [
  {
   "cell_type": "code",
   "execution_count": 1,
   "metadata": {
    "collapsed": true
   },
   "outputs": [],
   "source": [
    "import numpy as np\n",
    "import ROOT\n",
    "from root_numpy import root2array\n",
    "from matplotlib import pyplot as plt\n",
    "\n",
    "def rooteinlesen(File, Tree):\n",
    "    zw = root2array(File, Tree)\n",
    "    return np.array([zw['x'], zw['y']])"
   ]
  },
  {
   "cell_type": "code",
   "execution_count": 56,
   "metadata": {
    "collapsed": false
   },
   "outputs": [],
   "source": [
    "#berechnet die Kovarianzmatrix der Werte der entsprechenden Mittelwerten\n",
    "def berechneKovS(xi, my):\n",
    "    S = np.array([[0,0],[0,0]])\n",
    "    for z in range(len(xi[0,:])):\n",
    "        S = S + (xi[:,z] - my).reshape(2,1)*(xi[:,z]-my).reshape(1,2)\n",
    "    return S\n",
    "\n",
    "#Fischer Diskreminante \n",
    "def berechneLDA(S1,S2,my1,my2):\n",
    "    SG = S1 + S2 \n",
    "    print('Summierte Kovarianzmatrix = ', SG)\n",
    "    SGI = np.linalg.inv(SG)\n",
    "    diffmy = np.matrix((my1-my2).reshape(2,1))\n",
    "    lamda =  SGI*diffmy/np.linalg.norm(SGI*diffmy)\n",
    "    print(lamda)\n",
    "    return lamda\n",
    "\n",
    "#Stelle die Population in eine 1D Histogramm da\n",
    "def plotHist(name, menge1, menge2, lam, lm1, lm2):\n",
    "    plt.hist(np.transpose(menge1[:,:])*lam,normed=True,alpha=0.2,label=lm1)\n",
    "    plt.hist(np.transpose(menge2[:,:])*lam,normed=True,alpha=0.2,label=lm2)\n",
    "    plt.legend(loc='best')\n",
    "    plt.savefig(name)\n",
    "    plt.close()\n",
    "\n",
    "#Berchne Effizienz und Reinheit\n",
    "def berechneEffiRein(lam, menge1, menge2, plotname):\n",
    "    proj1 = np.transpose(menge1[:,:])*lam\n",
    "    proj2 = np.transpose(menge2[:,:])*lam\n",
    "    kE = np.asscalar(min([min(proj1),min(proj2)]))\n",
    "    gE = np.asscalar(max([max(proj1),max(proj2)]))\n",
    "    x = np.linspace(kE,gE,10)\n",
    "    pM1 = np.array([]); nM1 = np.array([]); pM2 = np.array([])\n",
    "    for a in x:\n",
    "        mask = menge1 >= a\n",
    "        masg = menge2 >= a\n",
    "        pM1 = np.append(pM1, len(menge1[mask]))\n",
    "        nM1 = np.append(nM1, len(menge1[~mask]))\n",
    "        pM2 = np.append(pM2, len(menge2[masg]))\n",
    "    reinheit = np.array(pM2/(pM2+pM1))\n",
    "    effizienz = np.array(pM2/(pM2+nM1))\n",
    "    plt.plot(x, reinheit,label='Reinheit')\n",
    "    plt.plot(x, effizienz,label='Effizienz')\n",
    "    plt.legend(loc='best')\n",
    "    plt.savefig(plotname)\n",
    "    plt.close()\n",
    "    return x, pM1, pM2\n",
    "\n",
    "def SigZuUnt(x, sig, unt, name):\n",
    "    plt.figure(1)\n",
    "    plt.subplot(2,1,1)\n",
    "    plt.plot(x,sig/unt,label=r'Signal/Untergrund')\n",
    "    plt.legend(loc='best')\n",
    "    plt.subplot(2,1,2)\n",
    "    plt.plot(x,sig/np.sqrt(sig + unt),label=r'Signal/Untergrund')\n",
    "    plt.savefig(name.__add__('.pdf'))\n",
    "    plt.close()"
   ]
  },
  {
   "cell_type": "code",
   "execution_count": 2,
   "metadata": {
    "collapsed": false
   },
   "outputs": [],
   "source": [
    "class Streu:\n",
    "    \"\"\"Berechnet aus den Vektoren und deren Mittelwert die Streumatritzen \"\"\"\n",
    "    def __init__(self, x, y, mean):   \n",
    "        zw = np.array([[0,0],[0,0]])\n",
    "        for z in range(2):\n",
    "            zw = zw + ([x[z],y[z]]-mean[0]).reshape(2,1)*([x[z],y[z]]-mean[1]).reshape(1,2)\n",
    "        self.streu = zw"
   ]
  },
  {
   "cell_type": "code",
   "execution_count": 3,
   "metadata": {
    "collapsed": false
   },
   "outputs": [],
   "source": [
    "class Data(Streu):\n",
    "    '''Liest die Daten der Rootdatei ein und berechnet den Mittelwert, sowie die Kovarianzmatrix der Vektoren'''\n",
    "    def __init__(self, data):\n",
    "        self.x = data[0]\n",
    "        self.y = data[1]\n",
    "        self.mean = np.array([np.mean(self.x),np.mean(self.y)])\n",
    "        Streu.__init__(self, self.x, self.y, self.mean)\n",
    "        print('self.streu',self.streu)"
   ]
  },
  {
   "cell_type": "code",
   "execution_count": 54,
   "metadata": {
    "collapsed": true
   },
   "outputs": [],
   "source": [
    "class Proj(object):\n",
    "    \n",
    "    def Kov(self, file1, file2):\n",
    "        self.SG = file1.streu + file2.streu\n",
    "        self.SG = np.linalg.inv(self.SG)\n",
    "        diffmy = np.matrix((file1.mean-file2.mean).reshape(2,1))\n",
    "        self.lam = self.SG*diffmy/np.linalg.norm(self.SG*diffmy)"
   ]
  },
  {
   "cell_type": "code",
   "execution_count": 73,
   "metadata": {
    "collapsed": true
   },
   "outputs": [],
   "source": [
    "class EffiRein(object):\n",
    "    \n",
    "    def calcMengen(self, file1, pro):\n",
    "        self.p1 = np.array([[file1.x[:]],[file1.y[:]]])*pro.lam"
   ]
  },
  {
   "cell_type": "code",
   "execution_count": 67,
   "metadata": {
    "collapsed": false
   },
   "outputs": [
    {
     "ename": "NameError",
     "evalue": "name 'menge1' is not defined",
     "output_type": "error",
     "traceback": [
      "\u001b[0;31m---------------------------------------------------------------------------\u001b[0m",
      "\u001b[0;31mNameError\u001b[0m                                 Traceback (most recent call last)",
      "\u001b[0;32m<ipython-input-67-8fd4d22a897b>\u001b[0m in \u001b[0;36m<module>\u001b[0;34m()\u001b[0m\n\u001b[1;32m      1\u001b[0m \u001b[0;34m\u001b[0m\u001b[0m\n\u001b[0;32m----> 2\u001b[0;31m \u001b[0mproj1\u001b[0m \u001b[0;34m=\u001b[0m \u001b[0mnp\u001b[0m\u001b[0;34m.\u001b[0m\u001b[0mtranspose\u001b[0m\u001b[0;34m(\u001b[0m\u001b[0mmenge1\u001b[0m\u001b[0;34m[\u001b[0m\u001b[0;34m:\u001b[0m\u001b[0;34m,\u001b[0m\u001b[0;34m:\u001b[0m\u001b[0;34m]\u001b[0m\u001b[0;34m)\u001b[0m\u001b[0;34m*\u001b[0m\u001b[0mlam\u001b[0m\u001b[0;34m\u001b[0m\u001b[0m\n\u001b[0m\u001b[1;32m      3\u001b[0m \u001b[0mproj2\u001b[0m \u001b[0;34m=\u001b[0m \u001b[0mnp\u001b[0m\u001b[0;34m.\u001b[0m\u001b[0mtranspose\u001b[0m\u001b[0;34m(\u001b[0m\u001b[0mmenge2\u001b[0m\u001b[0;34m[\u001b[0m\u001b[0;34m:\u001b[0m\u001b[0;34m,\u001b[0m\u001b[0;34m:\u001b[0m\u001b[0;34m]\u001b[0m\u001b[0;34m)\u001b[0m\u001b[0;34m*\u001b[0m\u001b[0mlam\u001b[0m\u001b[0;34m\u001b[0m\u001b[0m\n\u001b[1;32m      4\u001b[0m \u001b[0mkE\u001b[0m \u001b[0;34m=\u001b[0m \u001b[0mnp\u001b[0m\u001b[0;34m.\u001b[0m\u001b[0masscalar\u001b[0m\u001b[0;34m(\u001b[0m\u001b[0mmin\u001b[0m\u001b[0;34m(\u001b[0m\u001b[0;34m[\u001b[0m\u001b[0mmin\u001b[0m\u001b[0;34m(\u001b[0m\u001b[0mproj1\u001b[0m\u001b[0;34m)\u001b[0m\u001b[0;34m,\u001b[0m\u001b[0mmin\u001b[0m\u001b[0;34m(\u001b[0m\u001b[0mproj2\u001b[0m\u001b[0;34m)\u001b[0m\u001b[0;34m]\u001b[0m\u001b[0;34m)\u001b[0m\u001b[0;34m)\u001b[0m\u001b[0;34m\u001b[0m\u001b[0m\n\u001b[1;32m      5\u001b[0m \u001b[0mgE\u001b[0m \u001b[0;34m=\u001b[0m \u001b[0mnp\u001b[0m\u001b[0;34m.\u001b[0m\u001b[0masscalar\u001b[0m\u001b[0;34m(\u001b[0m\u001b[0mmax\u001b[0m\u001b[0;34m(\u001b[0m\u001b[0;34m[\u001b[0m\u001b[0mmax\u001b[0m\u001b[0;34m(\u001b[0m\u001b[0mproj1\u001b[0m\u001b[0;34m)\u001b[0m\u001b[0;34m,\u001b[0m\u001b[0mmax\u001b[0m\u001b[0;34m(\u001b[0m\u001b[0mproj2\u001b[0m\u001b[0;34m)\u001b[0m\u001b[0;34m]\u001b[0m\u001b[0;34m)\u001b[0m\u001b[0;34m)\u001b[0m\u001b[0;34m\u001b[0m\u001b[0m\n",
      "\u001b[0;31mNameError\u001b[0m: name 'menge1' is not defined"
     ]
    }
   ],
   "source": [
    "    \n",
    "    proj1 = np.transpose(menge1[:,:])*lam\n",
    "    proj2 = np.transpose(menge2[:,:])*lam\n",
    "    kE = np.asscalar(min([min(proj1),min(proj2)]))\n",
    "    gE = np.asscalar(max([max(proj1),max(proj2)]))\n",
    "    x = np.linspace(kE,gE,10)\n",
    "    pM1 = np.array([]); nM1 = np.array([]); pM2 = np.array([])\n",
    "    for a in x:\n",
    "        mask = menge1 >= a\n",
    "        masg = menge2 >= a\n",
    "        pM1 = np.append(pM1, len(menge1[mask]))\n",
    "        nM1 = np.append(nM1, len(menge1[~mask]))\n",
    "        pM2 = np.append(pM2, len(menge2[masg]))\n",
    "    reinheit = np.array(pM2/(pM2+pM1))\n",
    "    effizienz = np.array(pM2/(pM2+nM1))\n",
    "    plt.plot(x, reinheit,label='Reinheit')\n",
    "    plt.plot(x, effizienz,label='Effizienz')\n",
    "    plt.legend(loc='best')\n",
    "    plt.savefig(plotname)\n",
    "    plt.close()\n",
    "    return x, pM1, pM2"
   ]
  },
  {
   "cell_type": "code",
   "execution_count": 72,
   "metadata": {
    "collapsed": false,
    "scrolled": true
   },
   "outputs": [
    {
     "name": "stdout",
     "output_type": "stream",
     "text": [
      "self.kovar [[ 22.28998593  -0.9922924 ]\n",
      " [-32.20842066   5.77767379]]\n",
      "self.kovar [[ 12.07101971   7.96196134]\n",
      " [ -9.8076899    5.37812115]]\n",
      "self.kovar [[  5.02731529  13.78502397]\n",
      " [ -0.02668134  19.51413044]]\n",
      "Juhuuuu [[ 0.25221393]\n",
      " [ 0.9676715 ]]\n"
     ]
    },
    {
     "ename": "TypeError",
     "evalue": "data type not understood",
     "output_type": "error",
     "traceback": [
      "\u001b[0;31m---------------------------------------------------------------------------\u001b[0m",
      "\u001b[0;31mTypeError\u001b[0m                                 Traceback (most recent call last)",
      "\u001b[0;32m<ipython-input-72-8217c59d9d1a>\u001b[0m in \u001b[0;36m<module>\u001b[0;34m()\u001b[0m\n\u001b[1;32m      9\u001b[0m \u001b[0;34m\u001b[0m\u001b[0m\n\u001b[1;32m     10\u001b[0m \u001b[0mrein\u001b[0m \u001b[0;34m=\u001b[0m \u001b[0mEffiRein\u001b[0m\u001b[0;34m(\u001b[0m\u001b[0;34m)\u001b[0m\u001b[0;34m\u001b[0m\u001b[0m\n\u001b[0;32m---> 11\u001b[0;31m \u001b[0mrein\u001b[0m\u001b[0;34m.\u001b[0m\u001b[0mcalcMengen\u001b[0m\u001b[0;34m(\u001b[0m\u001b[0mP11\u001b[0m\u001b[0;34m,\u001b[0m \u001b[0mProj1\u001b[0m\u001b[0;34m)\u001b[0m\u001b[0;34m\u001b[0m\u001b[0m\n\u001b[0m",
      "\u001b[0;32m<ipython-input-71-1cb7f4cfef4f>\u001b[0m in \u001b[0;36mcalcMengen\u001b[0;34m(self, file1, pro)\u001b[0m\n\u001b[1;32m      2\u001b[0m \u001b[0;34m\u001b[0m\u001b[0m\n\u001b[1;32m      3\u001b[0m     \u001b[0;32mdef\u001b[0m \u001b[0mcalcMengen\u001b[0m\u001b[0;34m(\u001b[0m\u001b[0mself\u001b[0m\u001b[0;34m,\u001b[0m \u001b[0mfile1\u001b[0m\u001b[0;34m,\u001b[0m \u001b[0mpro\u001b[0m\u001b[0;34m)\u001b[0m\u001b[0;34m:\u001b[0m\u001b[0;34m\u001b[0m\u001b[0m\n\u001b[0;32m----> 4\u001b[0;31m         \u001b[0mself\u001b[0m\u001b[0;34m.\u001b[0m\u001b[0mp1\u001b[0m \u001b[0;34m=\u001b[0m \u001b[0mnp\u001b[0m\u001b[0;34m.\u001b[0m\u001b[0marray\u001b[0m\u001b[0;34m(\u001b[0m\u001b[0;34m[\u001b[0m\u001b[0mfile1\u001b[0m\u001b[0;34m.\u001b[0m\u001b[0mx\u001b[0m\u001b[0;34m[\u001b[0m\u001b[0;34m:\u001b[0m\u001b[0;34m]\u001b[0m\u001b[0;34m]\u001b[0m\u001b[0;34m,\u001b[0m\u001b[0;34m[\u001b[0m\u001b[0mfile1\u001b[0m\u001b[0;34m.\u001b[0m\u001b[0my\u001b[0m\u001b[0;34m[\u001b[0m\u001b[0;34m:\u001b[0m\u001b[0;34m]\u001b[0m\u001b[0;34m]\u001b[0m\u001b[0;34m)\u001b[0m\u001b[0;34m*\u001b[0m\u001b[0mpro\u001b[0m\u001b[0;34m.\u001b[0m\u001b[0mlam\u001b[0m\u001b[0;34m\u001b[0m\u001b[0m\n\u001b[0m",
      "\u001b[0;31mTypeError\u001b[0m: data type not understood"
     ]
    }
   ],
   "source": [
    "#Try to do the same with classes\n",
    "P11 = Data(rooteinlesen(\"./zwei_populationen.root\",\"P_1\"))\n",
    "P00 = Data(rooteinlesen(\"./zwei_populationen.root\",\"P_0_10000\"))\n",
    "P1010 = Data(rooteinlesen(\"./zwei_populationen.root\",\"P_0_1000\"))\n",
    "\n",
    "Proj1 = Proj()\n",
    "Proj1.Kov(P11, P00)\n",
    "print('Juhuuuu', Proj1.lam)\n",
    "\n",
    "rein = EffiRein()\n",
    "rein.calcMengen(P11, Proj1)\n"
   ]
  },
  {
   "cell_type": "code",
   "execution_count": 57,
   "metadata": {
    "collapsed": false
   },
   "outputs": [
    {
     "name": "stdout",
     "output_type": "stream",
     "text": [
      "Summierte Kovarianzmatrix =  [[ 976446.53132311  642781.33338268]\n",
      " [ 642781.33338268  524041.2286482 ]]\n",
      "[[-0.631106 ]\n",
      " [ 0.7756966]]\n"
     ]
    },
    {
     "data": {
      "text/plain": [
       "array([[ 122344.00470856,   73117.71509569],\n",
       "       [  73117.71509569,   53984.56949332]])"
      ]
     },
     "execution_count": 57,
     "metadata": {},
     "output_type": "execute_result"
    }
   ],
   "source": [
    "P1 = rooteinlesen(\"./zwei_populationen.root\",\"P_1\")\n",
    "P0 = rooteinlesen(\"./zwei_populationen.root\",\"P_0_10000\")\n",
    "P01 = rooteinlesen(\"./zwei_populationen.root\",\"P_0_1000\")\n",
    "\n",
    "myP1 = np.array([np.mean(P1[0,:]),np.mean(P01[1,:])])\n",
    "myP0 = np.array([np.mean(P0[0,:]),np.mean(P0[1,:])])\n",
    "myP01 = np.array([np.mean(P01[0,:]),np.mean(P01[1,:])])\n",
    "\n",
    "S_P0 = berechneKovS(P0, myP0)\n",
    "S_P1 = berechneKovS(P1, myP1)\n",
    "\n",
    "lam1 = berechneLDA(S_P0,S_P1,myP0,myP1)\n",
    "\n",
    "plotHist('firstHist.pdf', P0, P1,lam1,'P0','P1')\n",
    "\n",
    "x1, sig1, sig2 = berechneEffiRein(lam1,P0,P1,'blabla.pdf')\n",
    "SigZuUnt(x1, sig1, sig2, 'abc')\n",
    "    \n",
    "berechneKovS(P1, myP1)"
   ]
  }
 ],
 "metadata": {
  "anaconda-cloud": {},
  "kernelspec": {
   "display_name": "Python [default]",
   "language": "python",
   "name": "python3"
  },
  "language_info": {
   "codemirror_mode": {
    "name": "ipython",
    "version": 3
   },
   "file_extension": ".py",
   "mimetype": "text/x-python",
   "name": "python",
   "nbconvert_exporter": "python",
   "pygments_lexer": "ipython3",
   "version": "3.5.2"
  }
 },
 "nbformat": 4,
 "nbformat_minor": 1
}
