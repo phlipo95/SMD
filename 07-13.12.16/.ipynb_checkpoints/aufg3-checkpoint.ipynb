{
 "cells": [
  {
   "cell_type": "code",
   "execution_count": 1,
   "metadata": {
    "collapsed": false
   },
   "outputs": [],
   "source": [
    "import numpy as np"
   ]
  },
  {
   "cell_type": "code",
   "execution_count": 2,
   "metadata": {
    "collapsed": true
   },
   "outputs": [],
   "source": [
    "tem = np.array([29.4,26.7,28.3,21.1,20,18.3,17.8,22.2,20.6,23.9,23.9,22.2,27.2,21.7])\n",
    "wet = np.array([2,2,1,0,0,0,1,2,2,0,2,1,1,0])\n",
    "luf = np.array([85,90,78,96,80,70,65,95,70,80,70,90,75,80])\n",
    "win = np.array([False, True, False, False, False, True, True, False, False, False, True, True, False, True])\n",
    "fus = np.array([False, False, True, True, True, False, True, False, True, True, True, True, True, False])"
   ]
  },
  {
   "cell_type": "code",
   "execution_count": 3,
   "metadata": {
    "collapsed": false
   },
   "outputs": [],
   "source": [
    "class Ent:\n",
    "    '''Erstellt Information über das gegebene Array mit Booleanwerte (Hits Positiv, Hits Negativ, Entropie)'''\n",
    "    def __init__(self, trueeth):\n",
    "        self.mask = trueeth == True\n",
    "        self.p = (len(trueeth[self.mask]))\n",
    "        self.n = (len(trueeth[~self.mask]))\n",
    "    \n",
    "    def entro(self):\n",
    "        return(-self.p/(self.p+self.n)*np.log2(self.p/(self.p+self.n))-self.n/(self.p+self.n)*np.log2(self.n/(self.p+self.n)))\n",
    "        "
   ]
  },
  {
   "cell_type": "code",
   "execution_count": 4,
   "metadata": {
    "collapsed": false
   },
   "outputs": [],
   "source": [
    "class gain(Ent):\n",
    "    \"\"\"Sollte die Entropie der Einzelnen Äste der verschiedenen Branches berechen. \n",
    "    Jedoch tritt wenn in einem Ast pnode bzw nnode = 0 ist das Problem auf das der Logarhytmus an dieser stelle nicht definiert ist. \"\"\"\n",
    "    def __init__(self, trueeth, node, gesEnt=1):\n",
    "        self.branch = np.unique(node)\n",
    "        self.ltr = len(trueeth)\n",
    "        self.gesEnt = gesEnt\n",
    "        self.speicher = 0.\n",
    "        for x in self.branch:\n",
    "            self.mask = node == x\n",
    "            self.pnode = trueeth[self.mask]\n",
    "            self.gew = len(self.pnode)/self.ltr\n",
    "            self.a = Ent(self.pnode)\n",
    "            print('Branch der Wurzel ',x,', ',self.a.entro())\n",
    "            print('Gewichtete Entropie der ',self.gew*self.a.entro())\n",
    "            self.speicher += self.gew*self.a.entro()\n",
    "            print('__')\n",
    "        print('Gain = ', self.gesEnt - self.speicher)\n",
    "            \n",
    "            "
   ]
  },
  {
   "cell_type": "code",
   "execution_count": 5,
   "metadata": {
    "collapsed": false
   },
   "outputs": [
    {
     "name": "stdout",
     "output_type": "stream",
     "text": [
      "Die Gesamtentropie beträgt:  0.940285958671\n",
      "---Wind---\n",
      "Branch der Wurzel  False ,  0.811278124459\n",
      "Gewichtete Entropie der  0.463587499691\n",
      "__\n",
      "Branch der Wurzel  True ,  1.0\n",
      "Gewichtete Entropie der  0.428571428571\n",
      "__\n",
      "Gain =  0.0481270304083\n",
      "---Luftfeuchtigkeit---\n",
      "Branch der Wurzel  65 ,  nan\n",
      "Gewichtete Entropie der  nan\n",
      "__\n",
      "Branch der Wurzel  70 ,  0.918295834054\n",
      "Gewichtete Entropie der  0.196777678726\n",
      "__\n",
      "Branch der Wurzel  75 ,  nan\n",
      "Gewichtete Entropie der  nan\n",
      "__\n",
      "Branch der Wurzel  78 ,  nan\n",
      "Gewichtete Entropie der  nan\n",
      "__\n",
      "Branch der Wurzel  80 ,  0.918295834054\n",
      "Gewichtete Entropie der  0.196777678726\n",
      "__\n",
      "Branch der Wurzel  85 ,  nan\n",
      "Gewichtete Entropie der  nan\n",
      "__\n",
      "Branch der Wurzel  90 ,  1.0\n",
      "Gewichtete Entropie der  0.142857142857\n",
      "__\n",
      "Branch der Wurzel  95 ,  nan\n",
      "Gewichtete Entropie der  nan\n",
      "__\n",
      "Branch der Wurzel  96 ,  nan\n",
      "Gewichtete Entropie der  nan\n",
      "__\n",
      "Gain =  nan\n",
      "---Wetter---\n",
      "Branch der Wurzel  0 ,  0.970950594455\n",
      "Gewichtete Entropie der  0.346768069448\n",
      "__\n",
      "Branch der Wurzel  1 ,  nan\n",
      "Gewichtete Entropie der  nan\n",
      "__\n",
      "Branch der Wurzel  2 ,  0.970950594455\n",
      "Gewichtete Entropie der  0.346768069448\n",
      "__\n",
      "Gain =  nan\n",
      "---Temperatur---\n",
      "Branch der Wurzel  17.8 ,  nan\n",
      "Gewichtete Entropie der  nan\n",
      "__\n",
      "Branch der Wurzel  18.3 ,  nan\n",
      "Gewichtete Entropie der  nan\n",
      "__\n",
      "Branch der Wurzel  20.0 ,  nan\n",
      "Gewichtete Entropie der  nan\n",
      "__\n",
      "Branch der Wurzel  20.6 ,  nan\n",
      "Gewichtete Entropie der  nan\n",
      "__\n",
      "Branch der Wurzel  21.1 ,  nan\n",
      "Gewichtete Entropie der  nan\n",
      "__\n",
      "Branch der Wurzel  21.7 ,  nan\n",
      "Gewichtete Entropie der  nan\n",
      "__\n",
      "Branch der Wurzel  22.2 ,  1.0\n",
      "Gewichtete Entropie der  0.142857142857\n",
      "__\n",
      "Branch der Wurzel  23.9 ,  nan\n",
      "Gewichtete Entropie der  nan\n",
      "__\n",
      "Branch der Wurzel  26.7 ,  nan\n",
      "Gewichtete Entropie der  nan\n",
      "__\n",
      "Branch der Wurzel  27.2 ,  nan\n",
      "Gewichtete Entropie der  nan\n",
      "__\n",
      "Branch der Wurzel  28.3 ,  nan\n",
      "Gewichtete Entropie der  nan\n",
      "__\n",
      "Branch der Wurzel  29.4 ,  nan\n",
      "Gewichtete Entropie der  nan\n",
      "__\n",
      "Gain =  nan\n"
     ]
    },
    {
     "name": "stderr",
     "output_type": "stream",
     "text": [
      "/home/maximilian/.local/anaconda3/lib/python3.5/site-packages/ipykernel/__main__.py:9: RuntimeWarning: divide by zero encountered in log2\n",
      "/home/maximilian/.local/anaconda3/lib/python3.5/site-packages/ipykernel/__main__.py:9: RuntimeWarning: invalid value encountered in double_scalars\n"
     ]
    }
   ],
   "source": [
    "gesEnt = Ent(fus)\n",
    "print('Die Gesamtentropie beträgt: ',gesEnt.entro())\n",
    "\n",
    "print('---Wind---')\n",
    "Win = gain(fus, win, gesEnt.entro())\n",
    "\n",
    "print('---Luftfeuchtigkeit---')\n",
    "Luf = gain(fus, luf, gesEnt.entro())\n",
    "\n",
    "print('---Wetter---')\n",
    "Wet = gain(fus, wet, gesEnt.entro())\n",
    "\n",
    "print('---Temperatur---')\n",
    "Tem = gain(fus, tem, gesEnt.entro())"
   ]
  }
 ],
 "metadata": {
  "anaconda-cloud": {},
  "kernelspec": {
   "display_name": "Python [default]",
   "language": "python",
   "name": "python3"
  },
  "language_info": {
   "codemirror_mode": {
    "name": "ipython",
    "version": 3
   },
   "file_extension": ".py",
   "mimetype": "text/x-python",
   "name": "python",
   "nbconvert_exporter": "python",
   "pygments_lexer": "ipython3",
   "version": "3.5.2"
  }
 },
 "nbformat": 4,
 "nbformat_minor": 1
}
