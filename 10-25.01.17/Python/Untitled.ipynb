{
 "cells": [
  {
   "cell_type": "code",
   "execution_count": 2,
   "metadata": {
    "collapsed": true
   },
   "outputs": [],
   "source": [
    "import numpy as np"
   ]
  },
  {
   "cell_type": "markdown",
   "metadata": {},
   "source": [
    "# Aufgabe 2"
   ]
  },
  {
   "cell_type": "markdown",
   "metadata": {},
   "source": [
    "$$\\chi^2 = \\sum_{i = 1}^n \\frac{(y_i-<y_t(x_i)>)^2}{\\sigma^2_{t,i}}$$\n",
    "Anzahl an Freiheitsgraden $= len(M) -1 = 6$"
   ]
  },
  {
   "cell_type": "code",
   "execution_count": 5,
   "metadata": {
    "collapsed": false
   },
   "outputs": [
    {
     "name": "stdout",
     "output_type": "stream",
     "text": [
      "[ 58.52777778]\n",
      "[ 9.54458162]\n"
     ]
    }
   ],
   "source": [
    "M = np.array([31.6,32.3,31.2,31.9,31.2,30.8,31.3])\n",
    "\n",
    "def altCalcChi2(x, proof):\n",
    "    Sum = np.zeros(1)\n",
    "    for i in x:\n",
    "        Sum += ((i - proof)**2) / (abs(x.mean() - proof)**2)\n",
    "    return Sum\n",
    "\n",
    "a = altCalcChi2(M,31.3)\n",
    "b = altCalcChi2(M,30.7)\n",
    "print(a)\n",
    "print(b)"
   ]
  },
  {
   "cell_type": "code",
   "execution_count": null,
   "metadata": {
    "collapsed": true
   },
   "outputs": [],
   "source": []
  }
 ],
 "metadata": {
  "anaconda-cloud": {},
  "kernelspec": {
   "display_name": "Python [default]",
   "language": "python",
   "name": "python3"
  },
  "language_info": {
   "codemirror_mode": {
    "name": "ipython",
    "version": 3
   },
   "file_extension": ".py",
   "mimetype": "text/x-python",
   "name": "python",
   "nbconvert_exporter": "python",
   "pygments_lexer": "ipython3",
   "version": "3.5.2"
  }
 },
 "nbformat": 4,
 "nbformat_minor": 1
}
